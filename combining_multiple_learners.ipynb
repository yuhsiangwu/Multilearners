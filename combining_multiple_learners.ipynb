{
  "nbformat": 4,
  "nbformat_minor": 0,
  "metadata": {
    "colab": {
      "name": "combining multiple learners.ipynb",
      "provenance": [],
      "collapsed_sections": []
    },
    "kernelspec": {
      "name": "python3",
      "display_name": "Python 3"
    },
    "language_info": {
      "name": "python"
    }
  },
  "cells": [
    {
      "cell_type": "code",
      "execution_count": null,
      "metadata": {
        "id": "93_bLaZn3UNp"
      },
      "outputs": [],
      "source": [
        "from sklearn import tree\n",
        "import numpy as np\n",
        "from sklearn.metrics import accuracy_score\n",
        "from sklearn.model_selection import train_test_split\n",
        "from sklearn.ensemble import BaggingClassifier"
      ]
    },
    {
      "cell_type": "code",
      "source": [
        "infile =input(\"Input File:\")"
      ],
      "metadata": {
        "id": "fc6E0oVw-dBt",
        "colab": {
          "base_uri": "https://localhost:8080/"
        },
        "outputId": "99b75b7e-127b-47a5-ee2e-bf60a056b88f"
      },
      "execution_count": null,
      "outputs": [
        {
          "name": "stdout",
          "output_type": "stream",
          "text": [
            "Input File:/content/drive/MyDrive/Colab Notebooks/機器學習導論/winetxt.txt\n"
          ]
        }
      ]
    },
    {
      "cell_type": "code",
      "source": [
        "print(infile)"
      ],
      "metadata": {
        "colab": {
          "base_uri": "https://localhost:8080/"
        },
        "id": "leFronayVPRm",
        "outputId": "3fd5e2a4-ba3b-4e07-cc30-a12364496174"
      },
      "execution_count": null,
      "outputs": [
        {
          "output_type": "stream",
          "name": "stdout",
          "text": [
            "/content/drive/MyDrive/Colab Notebooks/機器學習導論/winetxt.txt\n"
          ]
        }
      ]
    },
    {
      "cell_type": "code",
      "source": [
        "elements = []\n",
        "with open(infile) as file:\n",
        "   for line in file:\n",
        "      line = line.strip().split(\",\")\n",
        "      elements.append(line)\n",
        "#print(elements)\n",
        "#print(np.shape(elements))"
      ],
      "metadata": {
        "id": "l0P5DtKa_Z72"
      },
      "execution_count": null,
      "outputs": []
    },
    {
      "cell_type": "code",
      "source": [
        "int_list = np.asarray(elements)\n",
        "#print(int_list)\n",
        "#print(np.shape(int_list))"
      ],
      "metadata": {
        "id": "ZLfzWog0iD7F"
      },
      "execution_count": null,
      "outputs": []
    },
    {
      "cell_type": "code",
      "source": [
        "X=np.empty((178,13))\n",
        "for i in range(0,178):\n",
        "    for j in range(0,14):\n",
        "        if j==0:\n",
        "            continue;\n",
        "        else:\n",
        "            x=float(int_list[i][j])\n",
        "            X[i][j-1]=x\n",
        "#print(X)\n",
        "#print(np.shape(X))"
      ],
      "metadata": {
        "id": "b6rj-CRa_yEz"
      },
      "execution_count": null,
      "outputs": []
    },
    {
      "cell_type": "code",
      "source": [
        "y=np.empty((178,1))\n",
        "for i in range(0,178):\n",
        "    for j in range(0,1):\n",
        "        x=int(elements[i][j])\n",
        "        y[i][j]=x\n",
        "#print(y)\n",
        "#print(np.shape(y))"
      ],
      "metadata": {
        "id": "KrZySFycrIBb"
      },
      "execution_count": null,
      "outputs": []
    },
    {
      "cell_type": "code",
      "source": [
        "X_train, X_test, y_train, y_test = train_test_split(X, y, test_size=0.11, random_state=42)\n",
        "#print(X_train)\n",
        "print(np.shape(X_train))\n",
        "#print(X_test)\n",
        "print(np.shape(X_test))\n",
        "#print(y_train)\n",
        "print(np.shape(y_train))\n",
        "#print(y_test)\n",
        "print(np.shape(y_test))"
      ],
      "metadata": {
        "colab": {
          "base_uri": "https://localhost:8080/"
        },
        "id": "s9jJ2jNYrgK9",
        "outputId": "b71bf412-c1b9-4f65-ce99-c5e6f1feec14"
      },
      "execution_count": null,
      "outputs": [
        {
          "output_type": "stream",
          "name": "stdout",
          "text": [
            "(158, 13)\n",
            "(20, 13)\n",
            "(158, 1)\n",
            "(20, 1)\n"
          ]
        }
      ]
    },
    {
      "cell_type": "code",
      "source": [
        "clf = tree.DecisionTreeClassifier(random_state=0)\n",
        "wine_clf = clf.fit(X_train, y_train)\n",
        "tree.plot_tree(wine_clf)"
      ],
      "metadata": {
        "colab": {
          "base_uri": "https://localhost:8080/",
          "height": 474
        },
        "id": "ZZwAYXDvwit6",
        "outputId": "9ac07f7b-ded0-4ea0-eb17-f8d55f7c3444"
      },
      "execution_count": null,
      "outputs": [
        {
          "output_type": "execute_result",
          "data": {
            "text/plain": [
              "[Text(0.5, 0.9, 'X[9] <= 3.82\\ngini = 0.659\\nsamples = 158\\nvalue = [51, 63, 44]'),\n",
              " Text(0.3, 0.7, 'X[12] <= 1002.5\\ngini = 0.101\\nsamples = 56\\nvalue = [3, 53, 0]'),\n",
              " Text(0.2, 0.5, 'X[2] <= 3.07\\ngini = 0.036\\nsamples = 54\\nvalue = [1, 53, 0]'),\n",
              " Text(0.1, 0.3, 'gini = 0.0\\nsamples = 53\\nvalue = [0, 53, 0]'),\n",
              " Text(0.3, 0.3, 'gini = 0.0\\nsamples = 1\\nvalue = [1, 0, 0]'),\n",
              " Text(0.4, 0.5, 'gini = 0.0\\nsamples = 2\\nvalue = [2, 0, 0]'),\n",
              " Text(0.7, 0.7, 'X[6] <= 1.4\\ngini = 0.583\\nsamples = 102\\nvalue = [48, 10, 44]'),\n",
              " Text(0.6, 0.5, 'gini = 0.0\\nsamples = 44\\nvalue = [0, 0, 44]'),\n",
              " Text(0.8, 0.5, 'X[12] <= 724.5\\ngini = 0.285\\nsamples = 58\\nvalue = [48, 10, 0]'),\n",
              " Text(0.7, 0.3, 'X[1] <= 3.92\\ngini = 0.165\\nsamples = 11\\nvalue = [1, 10, 0]'),\n",
              " Text(0.6, 0.1, 'gini = 0.0\\nsamples = 10\\nvalue = [0, 10, 0]'),\n",
              " Text(0.8, 0.1, 'gini = 0.0\\nsamples = 1\\nvalue = [1, 0, 0]'),\n",
              " Text(0.9, 0.3, 'gini = 0.0\\nsamples = 47\\nvalue = [47, 0, 0]')]"
            ]
          },
          "metadata": {},
          "execution_count": 9
        },
        {
          "output_type": "display_data",
          "data": {
            "text/plain": [
              "<Figure size 432x288 with 1 Axes>"
            ],
            "image/png": "[encoded data removed]"
          },
          "metadata": {
            "needs_background": "light"
          }
        }
      ]
    },
    {
      "cell_type": "code",
      "source": [
        "bag_model=BaggingClassifier(\n",
        "    base_estimator=tree.DecisionTreeClassifier(),\n",
        "    n_estimators=100,\n",
        "    max_samples=0.8,\n",
        "                  )\n",
        "bag_model.fit(X_train,y_train)"
      ],
      "metadata": {
        "colab": {
          "base_uri": "https://localhost:8080/"
        },
        "id": "0JjhtKyKHMJZ",
        "outputId": "1838a2e3-1dbe-498d-b53d-8ae980a36729"
      },
      "execution_count": null,
      "outputs": [
        {
          "output_type": "stream",
          "name": "stderr",
          "text": [
            "/usr/local/lib/python3.7/dist-packages/sklearn/ensemble/_bagging.py:719: DataConversionWarning: A column-vector y was passed when a 1d array was expected. Please change the shape of y to (n_samples, ), for example using ravel().\n",
            "  y = column_or_1d(y, warn=True)\n"
          ]
        },
        {
          "output_type": "execute_result",
          "data": {
            "text/plain": [
              "BaggingClassifier(base_estimator=DecisionTreeClassifier(), max_samples=0.8,\n",
              "                  n_estimators=100)"
            ]
          },
          "metadata": {},
          "execution_count": 16
        }
      ]
    },
    {
      "cell_type": "code",
      "source": [
        "prediction=np.zeros(20)\n",
        "for i in range(0,20):\n",
        "    test_input=np.resize(X_test[i],(1,13))\n",
        "    count=wine_clf.predict(test_input)\n",
        "    prediction[i]=count[0]\n",
        "print(prediction)\n",
        "print(np.shape(prediction))"
      ],
      "metadata": {
        "colab": {
          "base_uri": "https://localhost:8080/"
        },
        "id": "aFfNzZczJpg_",
        "outputId": "a6be81a9-4fa5-4b8e-a2cc-b87e020f094d"
      },
      "execution_count": null,
      "outputs": [
        {
          "output_type": "stream",
          "name": "stdout",
          "text": [
            "[1. 1. 3. 1. 2. 1. 2. 3. 2. 3. 2. 2. 1. 2. 1. 2. 2. 2. 1. 2.]\n",
            "(20,)\n"
          ]
        }
      ]
    },
    {
      "cell_type": "code",
      "source": [
        "accuracy_score(y_test, prediction)"
      ],
      "metadata": {
        "colab": {
          "base_uri": "https://localhost:8080/"
        },
        "id": "5AWWnfH-sWM6",
        "outputId": "daa2de97-c34c-4603-f2ce-b134fbdfb04c"
      },
      "execution_count": null,
      "outputs": [
        {
          "output_type": "execute_result",
          "data": {
            "text/plain": [
              "0.9"
            ]
          },
          "metadata": {},
          "execution_count": 18
        }
      ]
    },
    {
      "cell_type": "code",
      "source": [
        "prediction2=np.zeros(20)\n",
        "for i in range(0,20):\n",
        "    test_input=np.resize(X_test[i],(1,13))\n",
        "    count=bag_model.predict(test_input)\n",
        "    prediction[i]=count[0]\n",
        "print(prediction)\n",
        "print(np.shape(prediction))\n",
        "accuracy_score(y_test, prediction)"
      ],
      "metadata": {
        "colab": {
          "base_uri": "https://localhost:8080/"
        },
        "id": "Sd1QSbWeJmki",
        "outputId": "f0898a37-95d4-49b9-c213-0ddfdc7f384f"
      },
      "execution_count": null,
      "outputs": [
        {
          "output_type": "stream",
          "name": "stdout",
          "text": [
            "[1. 1. 3. 1. 2. 1. 2. 3. 2. 3. 1. 2. 1. 2. 1. 2. 2. 2. 1. 2.]\n",
            "(20,)\n"
          ]
        },
        {
          "output_type": "execute_result",
          "data": {
            "text/plain": [
              "0.95"
            ]
          },
          "metadata": {},
          "execution_count": 19
        }
      ]
    },
    {
      "cell_type": "code",
      "source": [
        "#底下是單一案例測試用程式\n",
        "while(1):\n",
        "    case=int(input('請輸入0到19的整數'))\n",
        "    if(case<0)or(case>19):\n",
        "        continue\n",
        "    else:\n",
        "        break\n",
        "test_input=np.resize(X_test[case],(1,13))\n",
        "count=wine_clf.predict(test_input)\n",
        "count2=bag_model.predict(test_input)\n",
        "print('測試集中的第',case,'個,理論上是第',int(y_test[case]),'種酒')\n",
        "print('用DecisionTree預測出來是第',int(count),'種酒')\n",
        "print('用BaggingClassifier預測出來是第',int(count2),'種酒')\n",
        "if int(y_test[case])==int(count):\n",
        "    print('用DecisionTree的預測正確')\n",
        "else:\n",
        "    print('用DecisionTree的預測錯誤')\n",
        "if int(y_test[case])==int(count2):\n",
        "    print('用BaggingClassifier的預測正確')\n",
        "else:\n",
        "    print('用BaggingClassifier的預測錯誤')"
      ],
      "metadata": {
        "colab": {
          "base_uri": "https://localhost:8080/"
        },
        "id": "6ex-I3s748gM",
        "outputId": "122f79ad-a76b-4ae2-826c-c8c36e751600"
      },
      "execution_count": null,
      "outputs": [
        {
          "output_type": "stream",
          "name": "stdout",
          "text": [
            "請輸入0到19的整數10\n",
            "測試集中的第 10 個,理論上是第 1 種酒\n",
            "用DecisionTree預測出來是第 2 種酒\n",
            "用BaggingClassifier預測出來是第 1 種酒\n",
            "用DecisionTree的預測錯誤\n",
            "用BaggingClassifier的預測正確\n"
          ]
        }
      ]
    }
  ]
}